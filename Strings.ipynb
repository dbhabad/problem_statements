{
 "cells": [
  {
   "cell_type": "code",
   "execution_count": null,
   "id": "a8464958",
   "metadata": {},
   "outputs": [],
   "source": [
    "# 1. Accept one string from the user and calculate\n",
    "    # the count of vowels into it"
   ]
  },
  {
   "cell_type": "code",
   "execution_count": null,
   "id": "358e3eca",
   "metadata": {},
   "outputs": [],
   "source": [
    "# 2. count the number of lowercase characters, \n",
    "    #uppercase characters and spaces in the given string"
   ]
  },
  {
   "cell_type": "code",
   "execution_count": null,
   "id": "6a4d5690",
   "metadata": {},
   "outputs": [],
   "source": [
    "# 3. print the index of 3rd occurance of 'a' from the given string"
   ]
  },
  {
   "cell_type": "code",
   "execution_count": null,
   "id": "a4209f84",
   "metadata": {},
   "outputs": [],
   "source": [
    "# 4. print first character of the every word from the below given string:\n",
    "\n",
    "st = 'good morning everyone, how are you?'"
   ]
  },
  {
   "cell_type": "code",
   "execution_count": null,
   "id": "4bc23adb",
   "metadata": {},
   "outputs": [],
   "source": [
    "# 5. get the count of special symbols from the given string"
   ]
  },
  {
   "cell_type": "code",
   "execution_count": null,
   "id": "ce37572a",
   "metadata": {},
   "outputs": [],
   "source": [
    "# 6. find if the given string is palindrome or not (without any loop)"
   ]
  },
  {
   "cell_type": "code",
   "execution_count": null,
   "id": "b5f4ef83",
   "metadata": {},
   "outputs": [],
   "source": [
    "# 7. print the count of every character from the use entered string"
   ]
  },
  {
   "cell_type": "code",
   "execution_count": null,
   "id": "c8c5ddeb",
   "metadata": {},
   "outputs": [],
   "source": [
    "# 8. write a python code to reverse the words of a string \n",
    "# sample input  ==>        'welcome to deloitte'\n",
    "# sample output ==>        'deloitte to welcome' "
   ]
  },
  {
   "cell_type": "code",
   "execution_count": null,
   "id": "a4cf3072",
   "metadata": {},
   "outputs": [],
   "source": [
    "# 9. write a python code to reverse the charactors of every words of a string \n",
    "# sample input  ==>        'welcome to deloitte'\n",
    "# sample output ==>        'emoclew ot ettioled' "
   ]
  },
  {
   "cell_type": "code",
   "execution_count": null,
   "id": "6f49c4e8",
   "metadata": {},
   "outputs": [],
   "source": [
    "# 10. accept a string from user and prepare a list of strings by combining the characters from same index of each indivisual words.\n",
    "# sample input :           'Hi hello, bye'\n",
    "# sample output:           ['Hhb', 'iey', 'le', 'l', 'o']"
   ]
  },
  {
   "cell_type": "code",
   "execution_count": null,
   "id": "84f95eac",
   "metadata": {},
   "outputs": [],
   "source": [
    "# 11. write a function to validate the password value, \n",
    "    # function takes a password as an argument\n",
    "    # returns 1 if password is valid and -1 otherwise\n",
    "    \n",
    "# Rules for valid password:\n",
    "    # 1. password should be atleast 8 character long\n",
    "    # 2. must contain atleast one lowercase letter\n",
    "    # 3. must contain atleast one uppercase letter\n",
    "    # 4. must not contain any space\n",
    "    # 5. must contain atleast one special symbol"
   ]
  }
 ],
 "metadata": {
  "kernelspec": {
   "display_name": "Python 3 (ipykernel)",
   "language": "python",
   "name": "python3"
  },
  "language_info": {
   "codemirror_mode": {
    "name": "ipython",
    "version": 3
   },
   "file_extension": ".py",
   "mimetype": "text/x-python",
   "name": "python",
   "nbconvert_exporter": "python",
   "pygments_lexer": "ipython3",
   "version": "3.9.13"
  }
 },
 "nbformat": 4,
 "nbformat_minor": 5
}
